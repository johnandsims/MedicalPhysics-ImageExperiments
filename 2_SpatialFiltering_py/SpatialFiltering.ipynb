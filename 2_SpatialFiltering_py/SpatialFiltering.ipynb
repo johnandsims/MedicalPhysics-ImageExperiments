{
 "cells": [
  {
   "cell_type": "markdown",
   "metadata": {},
   "source": [
    "# Spatial filtering"
   ]
  },
  {
   "cell_type": "code",
   "execution_count": 8,
   "metadata": {},
   "outputs": [
    {
     "name": "stdout",
     "output_type": "stream",
     "text": [
      "[[4 3 3 4 4 3 3 4]\n",
      " [2 1 1 2 2 1 1 2]\n",
      " [2 1 1 2 2 1 1 2]\n",
      " [4 3 3 4 4 3 3 4]\n",
      " [4 3 3 4 4 3 3 4]\n",
      " [2 1 1 2 2 1 1 2]\n",
      " [2 1 1 2 2 1 1 2]\n",
      " [4 3 3 4 4 3 3 4]]\n"
     ]
    }
   ],
   "source": [
    "import numpy as np\n",
    "\n",
    "a = [[1, 2], [3, 4]]\n",
    "b = np.pad(a, (2, 4), 'symmetric')\n",
    "print(b)"
   ]
  },
  {
   "cell_type": "code",
   "execution_count": null,
   "metadata": {},
   "outputs": [],
   "source": []
  }
 ],
 "metadata": {
  "kernelspec": {
   "display_name": "Python 3",
   "language": "python",
   "name": "python3"
  },
  "language_info": {
   "codemirror_mode": {
    "name": "ipython",
    "version": 3
   },
   "file_extension": ".py",
   "mimetype": "text/x-python",
   "name": "python",
   "nbconvert_exporter": "python",
   "pygments_lexer": "ipython3",
   "version": "3.7.3"
  }
 },
 "nbformat": 4,
 "nbformat_minor": 2
}
